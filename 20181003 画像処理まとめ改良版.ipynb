{
 "cells": [
  {
   "cell_type": "code",
   "execution_count": 38,
   "metadata": {},
   "outputs": [],
   "source": [
    "import cv2\n",
    "import numpy as np\n",
    "import matplotlib.pyplot as plt\n",
    "\n",
    "def image_mask():\n",
    "    print(\"画像54枚にマスク画像を合成するよ！\")\n",
    "    for i in range(1, 55):\n",
    "        #画像の読み込み\n",
    "        #背景は、PRADAの服、前景はマスク画像(透過で読み込み)\n",
    "        src  = cv2.imread(\"/Users/MorikawaLab/Desktop/miyakoda_data/masked_image/mask_zikken/PRADA_mask_haba55_up35_down50.png\", -1)       #マスク画像. ここを変える必要あり.\n",
    "        dst  = cv2.imread(\"/Users/MorikawaLab/Desktop/miyakoda_data/PRADA/PRADA ({0:d}).jpg\".format(i), -1) #ファッション画像\n",
    "        dst_ = dst.astype(np.float64)\n",
    "\n",
    "        #前景の画像の大きさを調べる。\n",
    "        width  = src.shape[0]    #幅\n",
    "        height  = src.shape[1]   #高さ\n",
    "\n",
    "        #マスク画像の作成\n",
    "        mask = src[:,:,3]                                #これで４番目のアルファチャンネルの行列だけが抽出。配列のスライスの参考→https://qiita.com/okkn/items/54e81346d8f35733ab5e\n",
    "        mask = cv2.cvtColor(mask, cv2.COLOR_GRAY2BGR)   #maskを3色分にした。0 ->(B0, G0, R0)になる。\n",
    "        mask = mask/250                                #正規化\n",
    "\n",
    "        #画像の合成\n",
    "        src = src[:,:, :3]\n",
    "        dst_ *= 1 - mask                               # 透過率に応じて元の画像を暗くする。\n",
    "        # dst_[:,:, :3] = (1 - mask) * dst_[:,:, :3]\n",
    "        dst_ += src * mask\n",
    "        cv2.imwrite(\"/Users/MorikawaLab/Desktop/miyakoda_data/PRADA_masked_data/PRADA_masked_image/PRADA_masked ({0:d}).png\".format(i), dst_)\n",
    "\n",
    "\n",
    "def color_to_table():\n",
    "    print(\"これから画像の画素の操作をします\")\n",
    "\n",
    "    for i in range(1, 55):\n",
    "        dst_ = cv2.imread(\"/Users/MorikawaLab/Desktop/miyakoda_data/PRADA_masked_data/PRADA_masked_image/PRADA_masked ({0:d}).png\".format(i), -1)\n",
    "    #     切り抜いた画像の色相分布について\n",
    "    #     その後、色相・彩度・明度の分布を行列化。  \n",
    "\n",
    "        height, width = dst_.shape[ :2]\n",
    "\n",
    "        black = 34371 #計算で求めた. 詳しくはノート見て.\n",
    "\n",
    "#         for j in range(0, height):\n",
    "#             for k in range(0, width):\n",
    "\n",
    "#                 \"GIMPの提示する黒は(0, 0 ,0)なのでマスク部分をカウント\"\n",
    "#                 if dst_.item(j, k, 0)==0 and dst_.item(j, k, 1)==0 and dst_.item(j, k, 2)==0:\n",
    "#                     black = black + 1\n",
    "\n",
    "    #     print(i, \"番目の黒色の数は\",black )\n",
    "\n",
    "        img_after =  cv2.cvtColor(dst_, cv2.COLOR_BGR2HSV)\n",
    "        hist_m0= cv2.calcHist([img_after], [0], None, [180], [0, 180]) \n",
    "#         hist_m0[0] -= black\n",
    "        hist_m1 = cv2.calcHist([img_after], [1], None, [256], [0, 256]) \n",
    "        hist_m1[0] -= black\n",
    "        hist_m2 = cv2.calcHist([img_after], [2], None, [256], [0,256])\n",
    "        hist_m2[0] -=  black\n",
    "\n",
    "        np.savetxt('/Users/MorikawaLab/Desktop/miyakoda_data/PRADA_masked_data/PRADA_masked_hue/PRADA_masked_hue({0:d}).csv'.format(i), hist_m0, delimiter=',')\n",
    "        np.savetxt('/Users/MorikawaLab/Desktop/miyakoda_data/PRADA_masked_data/PRADA_masked_sat/PRADA_masked_sat({0:d}).csv'.format(i), hist_m1, delimiter=',')\n",
    "        np.savetxt('/Users/MorikawaLab/Desktop/miyakoda_data/PRADA_masked_data/PRADA_masked_val/PRADA_masked_val({0:d}).csv'.format(i), hist_m2, delimiter=',')\n",
    "        if (i==54):\n",
    "            print(\"画像の総ピクセル数は\"+str(width * height)+\"pxだ\")\n",
    "            print(\"マスク画像の色相・彩度・明度の行列化が終わりました\")\n",
    "\n",
    "\n",
    "\n",
    "\n",
    "def analyze_color():\n",
    "    print(\"行列データを読み込み、区分分けして、割合の式にあてはめ、一致率を算出\")\n",
    "    correct_hue_total = 0\n",
    "    correct_sat_total = 0\n",
    "    correct_val_total = 0\n",
    "\n",
    "    not_black = (width * height) - black\n",
    "\n",
    "    for i in range(1, 4):\n",
    "        #色相の色を読みこむ\n",
    "        data1 = np.loadtxt('/Users/facul/Pictures/20180814_PRADA_masked/PRADA_hue({0:d}).csv'.format(i), delimiter=\",\") \n",
    "\n",
    "        hue_list = [0, 0, 0, 0, 0, 0, 0, 0, 0, 0]\n",
    "\n",
    "        hue10 = (data1[171: 180].sum() + data1[2: 10].sum()) / not_black\n",
    "        hue_list[0] = round(hue10, 2)                                        #round(数値, 2)で小数点2ケタに丸める的な\n",
    "        hue11 = data1[10:27].sum()  / not_black\n",
    "        hue_list[1] = round(hue11, 2)\n",
    "        hue12 = data1[27: 45].sum() /  not_black\n",
    "        hue_list[2] = round(hue12, 2)\n",
    "        hue13 = data1[45: 63].sum() /  not_black\n",
    "        hue_list[3] = round(hue13, 2)\n",
    "        hue14 = data1[63: 81].sum() /  not_black\n",
    "        hue_list[4] = round(hue14, 2)\n",
    "        hue15 = data1[81: 99].sum() /  not_black\n",
    "        hue_list[5] = round(hue15, 2)\n",
    "        hue16 = data1[99: 117].sum() /  not_black\n",
    "        hue_list[6] = round(hue16, 2)\n",
    "        hue17 = data1[117: 135].sum() /  not_black\n",
    "        hue_list[7] = round(hue17, 2)\n",
    "        hue18 = data1[135: 153].sum() /  not_black\n",
    "        hue_list[8] = round(hue18, 2)\n",
    "        hue19 = data1[153: 171].sum() /  not_black\n",
    "        hue_list[9] = round(hue19, 2)\n",
    "\n",
    "        print(hue_list)\n",
    "\n",
    "        #彩度の色を読み込む\n",
    "        data1 = np.loadtxt('/Users/facul/Pictures/20180814_PRADA_masked/PRADA_sat({0:d}).csv'.format(i), delimiter=\",\")    \n",
    "\n",
    "        sat_list = [0, 0, 0, 0, 0, 0, 0, 0, 0, 0]\n",
    "\n",
    "        sat10 = data1[2: 18].sum() / not_black\n",
    "        sat_list[0] = round(hue10, 2)                                        #round(数値, 2)で小数点2ケタに丸める的な\n",
    "        sat11 = data1[18: 36].sum() / not_black\n",
    "        sat_list[1] = round(hue11, 2)\n",
    "        sat12 = data1[36: 54].sum() /  not_black\n",
    "        sat_list[0] = round(hue10, 2)\n",
    "        sat13 = data1[54: 72].sum() /  not_black\n",
    "        sat_list[0] = round(hue10, 2)\n",
    "        sat14 = data1[72: 90].sum() /  not_black\n",
    "        hue_list[4] = round(hue14, 2)\n",
    "        sat15 = data1[90: 108].sum() /  not_black\n",
    "        sat_list[5] = round(hue15, 2)\n",
    "        sat16 = data1[108: 126].sum() /  not_black\n",
    "        sat_list[6] = round(hue16, 2)\n",
    "        sat17 = data1[126: 144].sum() /  not_black\n",
    "        sat_list[7] = round(hue17, 2)\n",
    "        sat18 = data1[144: 162].sum() /  not_black\n",
    "        sat_list[8] = round(hue18, 2)\n",
    "        sat19 = data1[162: 180].sum() /  not_black\n",
    "        sat_list[9] = round(hue19, 2)\n",
    "\n",
    "        print(sat_list)\n",
    "\n",
    "        #明度を読み込む\n",
    "        data1 = np.loadtxt('/Users/facul/Pictures/20180814_PRADA_masked/PRADA_sat({0:d}).csv'.format(i), delimiter=\",\")\n",
    "\n",
    "        val_list = [0, 0, 0, 0, 0, 0, 0, 0, 0, 0]\n",
    "\n",
    "        val10 = data1[2: 18].sum() / not_black\n",
    "        val_list[0] = round(hue10, 2)                                        #round(数値, 2)で小数点2ケタに丸める的な\n",
    "        val11 = data1[18: 36].sum() / not_black\n",
    "        val_list[1] = round(hue11, 2)\n",
    "        val12 = data1[36: 54].sum() /  not_black\n",
    "        val_list[0] = round(hue10, 2)\n",
    "        val13 = data1[54: 72].sum() /  not_black\n",
    "        val_list[0] = round(hue10, 2)\n",
    "        val14 = data1[72: 90].sum() /  not_black\n",
    "        val_list[4] = round(hue14, 2)\n",
    "        val15 = data1[90: 108].sum() /  not_black\n",
    "        val_list[5] = round(hue15, 2)\n",
    "        val16 = data1[108: 126].sum() /  not_black\n",
    "        val_list[6] = round(hue16, 2)\n",
    "        val17 = data1[126: 144].sum() /  not_black\n",
    "        val_list[7] = round(hue17, 2)\n",
    "        val18 = data1[144: 162].sum() /  not_black\n",
    "        val_list[8] = round(hue18, 2)\n",
    "        val19 = data1[162: 180].sum() /  not_black\n",
    "        val_list[9] = round(hue19, 2)\n",
    "\n",
    "        print(sat_list)"
   ]
  },
  {
   "cell_type": "markdown",
   "metadata": {},
   "source": [
    "画像処理を複数の関数  \n",
    "* image_mask()\n",
    "* color_to_table()\n",
    "* analyze_color()  \n",
    "に分割した  \n",
    "こうすることで, 毎回起動しなくてもよくなる.    \n",
    "以下で実際に動かしてみる."
   ]
  },
  {
   "cell_type": "code",
   "execution_count": 5,
   "metadata": {},
   "outputs": [
    {
     "name": "stdout",
     "output_type": "stream",
     "text": [
      "画像54枚にマスク画像を合成するよ！\n"
     ]
    }
   ],
   "source": [
    "image_mask()   #20181003 動作確認済み"
   ]
  },
  {
   "cell_type": "code",
   "execution_count": 37,
   "metadata": {},
   "outputs": [
    {
     "name": "stdout",
     "output_type": "stream",
     "text": [
      "これから画像の画素の操作をします\n",
      "画像の総ピクセル数は43776pxだ\n",
      "マスク画像の色相・彩度・明度の行列化が終わりました\n"
     ]
    }
   ],
   "source": [
    "color_to_table() "
   ]
  },
  {
   "cell_type": "code",
   "execution_count": 39,
   "metadata": {},
   "outputs": [
    {
     "name": "stdout",
     "output_type": "stream",
     "text": [
      "行列データを読み込み、区分分けして、割合の式にあてはめ、一致率を算出\n"
     ]
    },
    {
     "ename": "NameError",
     "evalue": "name 'width' is not defined",
     "output_type": "error",
     "traceback": [
      "\u001b[1;31m---------------------------------------------------------------------------\u001b[0m",
      "\u001b[1;31mNameError\u001b[0m                                 Traceback (most recent call last)",
      "\u001b[1;32m<ipython-input-39-691f5fe11330>\u001b[0m in \u001b[0;36m<module>\u001b[1;34m()\u001b[0m\n\u001b[1;32m----> 1\u001b[1;33m \u001b[0manalyze_color\u001b[0m\u001b[1;33m(\u001b[0m\u001b[1;33m)\u001b[0m\u001b[1;33m\u001b[0m\u001b[0m\n\u001b[0m",
      "\u001b[1;32m<ipython-input-38-024a8deb051f>\u001b[0m in \u001b[0;36manalyze_color\u001b[1;34m()\u001b[0m\n\u001b[0;32m     74\u001b[0m     \u001b[0mcorrect_val_total\u001b[0m \u001b[1;33m=\u001b[0m \u001b[1;36m0\u001b[0m\u001b[1;33m\u001b[0m\u001b[0m\n\u001b[0;32m     75\u001b[0m \u001b[1;33m\u001b[0m\u001b[0m\n\u001b[1;32m---> 76\u001b[1;33m     \u001b[0mnot_black\u001b[0m \u001b[1;33m=\u001b[0m \u001b[1;33m(\u001b[0m\u001b[0mwidth\u001b[0m \u001b[1;33m*\u001b[0m \u001b[0mheight\u001b[0m\u001b[1;33m)\u001b[0m \u001b[1;33m-\u001b[0m \u001b[0mblack\u001b[0m\u001b[1;33m\u001b[0m\u001b[0m\n\u001b[0m\u001b[0;32m     77\u001b[0m \u001b[1;33m\u001b[0m\u001b[0m\n\u001b[0;32m     78\u001b[0m     \u001b[1;32mfor\u001b[0m \u001b[0mi\u001b[0m \u001b[1;32min\u001b[0m \u001b[0mrange\u001b[0m\u001b[1;33m(\u001b[0m\u001b[1;36m1\u001b[0m\u001b[1;33m,\u001b[0m \u001b[1;36m4\u001b[0m\u001b[1;33m)\u001b[0m\u001b[1;33m:\u001b[0m\u001b[1;33m\u001b[0m\u001b[0m\n",
      "\u001b[1;31mNameError\u001b[0m: name 'width' is not defined"
     ]
    }
   ],
   "source": [
    "analyze_color()"
   ]
  },
  {
   "cell_type": "code",
   "execution_count": null,
   "metadata": {},
   "outputs": [],
   "source": []
  }
 ],
 "metadata": {
  "kernelspec": {
   "display_name": "Python 3",
   "language": "python",
   "name": "python3"
  },
  "language_info": {
   "codemirror_mode": {
    "name": "ipython",
    "version": 3
   },
   "file_extension": ".py",
   "mimetype": "text/x-python",
   "name": "python",
   "nbconvert_exporter": "python",
   "pygments_lexer": "ipython3",
   "version": "3.6.3"
  }
 },
 "nbformat": 4,
 "nbformat_minor": 2
}
