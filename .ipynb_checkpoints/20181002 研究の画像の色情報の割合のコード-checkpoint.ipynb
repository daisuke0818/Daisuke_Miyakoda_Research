{
 "cells": [
  {
   "cell_type": "markdown",
   "metadata": {},
   "source": [
    "**def 文を用いて関数(function)を定義することができます。  \n",
    "下記の例では、x と y という二つの引数を受け取り、  \n",
    "その合計値を表示する関数 add() を定義し、それを呼び出しています。**"
   ]
  },
  {
   "cell_type": "code",
   "execution_count": 14,
   "metadata": {},
   "outputs": [],
   "source": [
    "def add(x , y):\n",
    "    ans = x + y\n",
    "add(2, 3)"
   ]
  },
  {
   "cell_type": "code",
   "execution_count": 15,
   "metadata": {},
   "outputs": [
    {
     "data": {
      "text/plain": [
       "5"
      ]
     },
     "execution_count": 15,
     "metadata": {},
     "output_type": "execute_result"
    }
   ],
   "source": [
    "def add_(x, y):\n",
    "    ans = x + y\n",
    "    return ans\n",
    "add_(2, 3)"
   ]
  },
  {
   "cell_type": "markdown",
   "metadata": {},
   "source": [
    "上のようにreturn(返り値)を入力しないと, 適切に処理されない."
   ]
  },
  {
   "cell_type": "markdown",
   "metadata": {},
   "source": [
    "では,関数を作成して①画像入力し, ②処理を行い, 適切な出力名で返ってくるものを作成したい."
   ]
  },
  {
   "cell_type": "code",
   "execution_count": 3,
   "metadata": {},
   "outputs": [],
   "source": [
    "def image_mask():\n",
    "    for i in range(1, 55):\n",
    "        #画像の読み込み\n",
    "        #背景は、PRADAの服、前景はマスク画像(透過で読み込み)\n",
    "        src  = cv2.imread(\"/Users/MorikawaLab/Pictures/PRADA_mask_var20180131.png\", -1)       #マスク画像. ここを変える必要あり.\n",
    "        dst  = cv2.imread(\"/Users/MorikawaLab/Desktop/PRADA/PRADA ({0:d}).jpg\".format(i), -1) #ファッション画像\n",
    "        dst_ = dst.astype(np.float64)\n",
    "\n",
    "        #前景の画像の大きさを調べる。\n",
    "        width  = src.shape[0]    #幅\n",
    "        height  = src.shape[1]   #高さ\n",
    "\n",
    "        #マスク画像の作成\n",
    "        mask = src[:,:,3]                                #これで４番目のアルファチャンネルの行列だけが抽出。配列のスライスの参考→https://qiita.com/okkn/items/54e81346d8f35733ab5e\n",
    "        mask = cv2.cvtColor(mask, cv2.COLOR_GRAY2BGR)   #maskを3色分にした。0 ->(B0, G0, R0)になる。\n",
    "        mask = mask/250                                #正規化\n",
    "\n",
    "        #画像の合成\n",
    "        src = src[:,:, :3]\n",
    "        dst_ *= 1 - mask                               # 透過率に応じて元の画像を暗くする。\n",
    "        # dst_[:,:, :3] = (1 - mask) * dst_[:,:, :3]\n",
    "        dst_ += src * mask\n",
    "        cv2.imwrite(\"/Users/MorikawaLab/Desktop/PRADA_gousei/PRADA_gousei ({0:d}).png\".format(i), dst_)"
   ]
  },
  {
   "cell_type": "markdown",
   "metadata": {},
   "source": [
    "各色情報をそれぞれ10等分にして, 各割合を行列にしたい.  \n",
    "まずはリストを作成 -> 数値を各リストに入れ込む -> 最大を探して判別アルゴリズムに回す.  "
   ]
  },
  {
   "cell_type": "code",
   "execution_count": null,
   "metadata": {},
   "outputs": [],
   "source": [
    "correct_hue_total = 0\n",
    "correct_sat_total = 0\n",
    "correct_val_total = 0\n",
    "\n",
    "not_black = (width * height) - black\n",
    "\n",
    "for i in range(1, 4):\n",
    "    #色相の色を読みこむ\n",
    "    data1 = np.loadtxt('/Users/facul/Pictures/20180814_PRADA_masked/PRADA_hue({0:d}).csv'.format(i), delimiter=\",\") \n",
    "    \n",
    "    hue_list = [0, 0, 0, 0, 0, 0, 0, 0, 0, 0]\n",
    "    \n",
    "    hue10 = (data1[171: 180].sum() + data1[2: 10].sum()) / not_black\n",
    "    hue_list[0] = round(hue10, 2)                                        #round(数値, 2)で小数点2ケタに丸める的な\n",
    "    hue11 = data1[10:27].sum()  / not_black\n",
    "    hue_list[1] = round(hue11, 2)\n",
    "    hue12 = data1[27: 45].sum() /  not_black\n",
    "    hue_list[2] = round(hue12, 2)\n",
    "    hue13 = data1[45: 63].sum() /  not_black\n",
    "    hue_list[3] = round(hue13, 2)\n",
    "    hue14 = data1[63: 81].sum() /  not_black\n",
    "    hue_list[4] = round(hue14, 2)\n",
    "    hue15 = data1[81: 99].sum() /  not_black\n",
    "    hue_list[5] = round(hue15, 2)\n",
    "    hue16 = data1[99: 117].sum() /  not_black\n",
    "    hue_list[6] = round(hue16, 2)\n",
    "    hue17 = data1[117: 135].sum() /  not_black\n",
    "    hue_list[7] = round(hue17, 2)\n",
    "    hue18 = data1[135: 153].sum() /  not_black\n",
    "    hue_list[8] = round(hue18, 2)\n",
    "    hue19 = data1[153: 171].sum() /  not_black\n",
    "    hue_list[9] = round(hue19, 2)\n",
    "    \n",
    "    print(hue_list)\n",
    "        \n",
    "    #彩度の色を読み込む\n",
    "    data1 = np.loadtxt('/Users/facul/Pictures/20180814_PRADA_masked/PRADA_sat({0:d}).csv'.format(i), delimiter=\",\")    \n",
    "\n",
    "    sat_list = [0, 0, 0, 0, 0, 0, 0, 0, 0, 0]\n",
    "    \n",
    "    sat10 = data1[2: 18].sum() / not_black\n",
    "    sat_list[0] = round(hue10, 2)                                        #round(数値, 2)で小数点2ケタに丸める的な\n",
    "    sat11 = data1[18: 36].sum() / not_black\n",
    "    sat_list[1] = round(hue11, 2)\n",
    "    sat12 = data1[36: 54].sum() /  not_black\n",
    "    sat_list[0] = round(hue10, 2)\n",
    "    sat13 = data1[54: 72].sum() /  not_black\n",
    "    sat_list[0] = round(hue10, 2)\n",
    "    sat14 = data1[72: 90].sum() /  not_black\n",
    "    hue_list[4] = round(hue14, 2)\n",
    "    sat15 = data1[90: 108].sum() /  not_black\n",
    "    sat_list[5] = round(hue15, 2)\n",
    "    sat16 = data1[108: 126].sum() /  not_black\n",
    "    sat_list[6] = round(hue16, 2)\n",
    "    sat17 = data1[126: 144].sum() /  not_black\n",
    "    sat_list[7] = round(hue17, 2)\n",
    "    sat18 = data1[144: 162].sum() /  not_black\n",
    "    sat_list[8] = round(hue18, 2)\n",
    "    sat19 = data1[162: 180].sum() /  not_black\n",
    "    sat_list[9] = round(hue19, 2)\n",
    "    \n",
    "    print(sat_list)\n",
    "    \n",
    "    #明度を読み込む\n",
    "    data1 = np.loadtxt('/Users/facul/Pictures/20180814_PRADA_masked/PRADA_sat({0:d}).csv'.format(i), delimiter=\",\")\n",
    "    \n",
    "    val_list = [0, 0, 0, 0, 0, 0, 0, 0, 0, 0]\n",
    "             \n",
    "    val10 = data1[2: 18].sum() / not_black\n",
    "    val_list[0] = round(hue10, 2)                                        #round(数値, 2)で小数点2ケタに丸める的な\n",
    "    val11 = data1[18: 36].sum() / not_black\n",
    "    val_list[1] = round(hue11, 2)\n",
    "    val12 = data1[36: 54].sum() /  not_black\n",
    "    val_list[0] = round(hue10, 2)\n",
    "    val13 = data1[54: 72].sum() /  not_black\n",
    "    val_list[0] = round(hue10, 2)\n",
    "    val14 = data1[72: 90].sum() /  not_black\n",
    "    val_list[4] = round(hue14, 2)\n",
    "    val15 = data1[90: 108].sum() /  not_black\n",
    "    val_list[5] = round(hue15, 2)\n",
    "    val16 = data1[108: 126].sum() /  not_black\n",
    "    val_list[6] = round(hue16, 2)\n",
    "    val17 = data1[126: 144].sum() /  not_black\n",
    "    val_list[7] = round(hue17, 2)\n",
    "    val18 = data1[144: 162].sum() /  not_black\n",
    "    val_list[8] = round(hue18, 2)\n",
    "    val19 = data1[162: 180].sum() /  not_black\n",
    "    val_list[9] = round(hue19, 2)\n",
    "    \n",
    "    print(sat_list)"
   ]
  }
 ],
 "metadata": {
  "kernelspec": {
   "display_name": "Python 3",
   "language": "python",
   "name": "python3"
  },
  "language_info": {
   "codemirror_mode": {
    "name": "ipython",
    "version": 3
   },
   "file_extension": ".py",
   "mimetype": "text/x-python",
   "name": "python",
   "nbconvert_exporter": "python",
   "pygments_lexer": "ipython3",
   "version": "3.6.3"
  }
 },
 "nbformat": 4,
 "nbformat_minor": 2
}
