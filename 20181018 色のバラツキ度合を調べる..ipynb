{
 "cells": [
  {
   "cell_type": "markdown",
   "metadata": {},
   "source": [
    "## ①画像の読み込み"
   ]
  },
  {
   "cell_type": "code",
   "execution_count": 3,
   "metadata": {},
   "outputs": [],
   "source": [
    "import cv2\n",
    "import numpy as np\n",
    "import matplotlib.pyplot as plt\n",
    "%matplotlib inline"
   ]
  },
  {
   "cell_type": "code",
   "execution_count": 80,
   "metadata": {},
   "outputs": [
    {
     "data": {
      "image/png": "[encoded data removed]",
      "text/plain": [
       "<matplotlib.figure.Figure at 0x1d63e807c18>"
      ]
     },
     "metadata": {},
     "output_type": "display_data"
    }
   ],
   "source": [
    "img = cv2.imread(\"/Users/facul/Pictures/reseach_image/color_entropy/color_entoropy_4.png\")\n",
    "plt.imshow(img)  #貼り付け\n",
    "plt.show()       #表示"
   ]
  },
  {
   "cell_type": "markdown",
   "metadata": {},
   "source": [
    "## ②着目座標の検出, リスト化"
   ]
  },
  {
   "cell_type": "code",
   "execution_count": 78,
   "metadata": {},
   "outputs": [
    {
     "name": "stdout",
     "output_type": "stream",
     "text": [
      "10 10\n",
      "[[255 255 255 255 255 255 255 255 255 255]\n",
      " [255 255 255 255 255 255 255 255 255 255]\n",
      " [255 255 255 255 255 255 255 255 255 255]\n",
      " [255 255 255 255 255 255 255 255 255 255]\n",
      " [ 25  25  25  25  25  25  25  25  25  25]\n",
      " [255 255 255 255 255 255 255 255 255 255]\n",
      " [255 255 255 255 255 255 255 255 255 255]\n",
      " [255 255 255 255 255 255 255 255 255 255]\n",
      " [255 255 255 255 255 255 255 255 255 255]\n",
      " [255 255 255 255 255 255 255 255 255 255]]\n",
      "[[4, 0], [4, 1], [4, 2], [4, 3], [4, 4], [4, 5], [4, 6], [4, 7], [4, 8], [4, 9]]\n"
     ]
    }
   ],
   "source": [
    "#画像の大きさを取得\n",
    "width = img.shape[0] \n",
    "height = img.shape[1]\n",
    "print(width, height)  #OK\n",
    "\n",
    "#カラーチャネルを分離する.\n",
    "img_blue, img_green, img_red = cv2.split(img)\n",
    "print(img_red)\n",
    "\n",
    "#着目色の座標リストを作成\n",
    "zahyo = []\n",
    "\n",
    "#各座標に於いて, 指定した色ならリストに入れる工程\n",
    "#なお, 上のオレンジ色は,(R, G, B)=(255, 170, 0)\n",
    "for wi in range(width):\n",
    "    for he in range(height):\n",
    "        if img_red[wi, he] == 25:\n",
    "            zahyo.append([wi, he])\n",
    "print(zahyo) #OK           "
   ]
  },
  {
   "cell_type": "markdown",
   "metadata": {},
   "source": [
    "## ③リスト内の組を総当たりで距離計算"
   ]
  },
  {
   "cell_type": "code",
   "execution_count": 79,
   "metadata": {},
   "outputs": [
    {
     "name": "stdout",
     "output_type": "stream",
     "text": [
      "データ数は10\n",
      "[4,0]と[4,0]の距離は0.00である.\n",
      "[4,0]と[4,1]の距離は1.00である.\n",
      "[4,0]と[4,2]の距離は2.00である.\n",
      "[4,0]と[4,3]の距離は3.00である.\n",
      "[4,0]と[4,4]の距離は4.00である.\n",
      "[4,0]と[4,5]の距離は5.00である.\n",
      "[4,0]と[4,6]の距離は6.00である.\n",
      "[4,0]と[4,7]の距離は7.00である.\n",
      "[4,0]と[4,8]の距離は8.00である.\n",
      "[4,0]と[4,9]の距離は9.00である.\n",
      "[4,1]と[4,0]の距離は1.00である.\n",
      "[4,1]と[4,1]の距離は0.00である.\n",
      "[4,1]と[4,2]の距離は1.00である.\n",
      "[4,1]と[4,3]の距離は2.00である.\n",
      "[4,1]と[4,4]の距離は3.00である.\n",
      "[4,1]と[4,5]の距離は4.00である.\n",
      "[4,1]と[4,6]の距離は5.00である.\n",
      "[4,1]と[4,7]の距離は6.00である.\n",
      "[4,1]と[4,8]の距離は7.00である.\n",
      "[4,1]と[4,9]の距離は8.00である.\n",
      "[4,2]と[4,0]の距離は2.00である.\n",
      "[4,2]と[4,1]の距離は1.00である.\n",
      "[4,2]と[4,2]の距離は0.00である.\n",
      "[4,2]と[4,3]の距離は1.00である.\n",
      "[4,2]と[4,4]の距離は2.00である.\n",
      "[4,2]と[4,5]の距離は3.00である.\n",
      "[4,2]と[4,6]の距離は4.00である.\n",
      "[4,2]と[4,7]の距離は5.00である.\n",
      "[4,2]と[4,8]の距離は6.00である.\n",
      "[4,2]と[4,9]の距離は7.00である.\n",
      "[4,3]と[4,0]の距離は3.00である.\n",
      "[4,3]と[4,1]の距離は2.00である.\n",
      "[4,3]と[4,2]の距離は1.00である.\n",
      "[4,3]と[4,3]の距離は0.00である.\n",
      "[4,3]と[4,4]の距離は1.00である.\n",
      "[4,3]と[4,5]の距離は2.00である.\n",
      "[4,3]と[4,6]の距離は3.00である.\n",
      "[4,3]と[4,7]の距離は4.00である.\n",
      "[4,3]と[4,8]の距離は5.00である.\n",
      "[4,3]と[4,9]の距離は6.00である.\n",
      "[4,4]と[4,0]の距離は4.00である.\n",
      "[4,4]と[4,1]の距離は3.00である.\n",
      "[4,4]と[4,2]の距離は2.00である.\n",
      "[4,4]と[4,3]の距離は1.00である.\n",
      "[4,4]と[4,4]の距離は0.00である.\n",
      "[4,4]と[4,5]の距離は1.00である.\n",
      "[4,4]と[4,6]の距離は2.00である.\n",
      "[4,4]と[4,7]の距離は3.00である.\n",
      "[4,4]と[4,8]の距離は4.00である.\n",
      "[4,4]と[4,9]の距離は5.00である.\n",
      "[4,5]と[4,0]の距離は5.00である.\n",
      "[4,5]と[4,1]の距離は4.00である.\n",
      "[4,5]と[4,2]の距離は3.00である.\n",
      "[4,5]と[4,3]の距離は2.00である.\n",
      "[4,5]と[4,4]の距離は1.00である.\n",
      "[4,5]と[4,5]の距離は0.00である.\n",
      "[4,5]と[4,6]の距離は1.00である.\n",
      "[4,5]と[4,7]の距離は2.00である.\n",
      "[4,5]と[4,8]の距離は3.00である.\n",
      "[4,5]と[4,9]の距離は4.00である.\n",
      "[4,6]と[4,0]の距離は6.00である.\n",
      "[4,6]と[4,1]の距離は5.00である.\n",
      "[4,6]と[4,2]の距離は4.00である.\n",
      "[4,6]と[4,3]の距離は3.00である.\n",
      "[4,6]と[4,4]の距離は2.00である.\n",
      "[4,6]と[4,5]の距離は1.00である.\n",
      "[4,6]と[4,6]の距離は0.00である.\n",
      "[4,6]と[4,7]の距離は1.00である.\n",
      "[4,6]と[4,8]の距離は2.00である.\n",
      "[4,6]と[4,9]の距離は3.00である.\n",
      "[4,7]と[4,0]の距離は7.00である.\n",
      "[4,7]と[4,1]の距離は6.00である.\n",
      "[4,7]と[4,2]の距離は5.00である.\n",
      "[4,7]と[4,3]の距離は4.00である.\n",
      "[4,7]と[4,4]の距離は3.00である.\n",
      "[4,7]と[4,5]の距離は2.00である.\n",
      "[4,7]と[4,6]の距離は1.00である.\n",
      "[4,7]と[4,7]の距離は0.00である.\n",
      "[4,7]と[4,8]の距離は1.00である.\n",
      "[4,7]と[4,9]の距離は2.00である.\n",
      "[4,8]と[4,0]の距離は8.00である.\n",
      "[4,8]と[4,1]の距離は7.00である.\n",
      "[4,8]と[4,2]の距離は6.00である.\n",
      "[4,8]と[4,3]の距離は5.00である.\n",
      "[4,8]と[4,4]の距離は4.00である.\n",
      "[4,8]と[4,5]の距離は3.00である.\n",
      "[4,8]と[4,6]の距離は2.00である.\n",
      "[4,8]と[4,7]の距離は1.00である.\n",
      "[4,8]と[4,8]の距離は0.00である.\n",
      "[4,8]と[4,9]の距離は1.00である.\n",
      "[4,9]と[4,0]の距離は9.00である.\n",
      "[4,9]と[4,1]の距離は8.00である.\n",
      "[4,9]と[4,2]の距離は7.00である.\n",
      "[4,9]と[4,3]の距離は6.00である.\n",
      "[4,9]と[4,4]の距離は5.00である.\n",
      "[4,9]と[4,5]の距離は4.00である.\n",
      "[4,9]と[4,6]の距離は3.00である.\n",
      "[4,9]と[4,7]の距離は2.00である.\n",
      "[4,9]と[4,8]の距離は1.00である.\n",
      "[4,9]と[4,9]の距離は0.00である.\n",
      "総合計は330.0である.\n"
     ]
    }
   ],
   "source": [
    "#まずはリストの組数を調べる. 組数=行数だ.\n",
    "data = len(zahyo)\n",
    "print(\"データ数は\"+str(data))       #OK\n",
    "\n",
    "#総合計の変数を作成\n",
    "total_distance = 0\n",
    "\n",
    "for i in range(data):\n",
    "    for j in range(data):\n",
    "        add = ((zahyo[i][0]-zahyo[j][0])**2 + (zahyo[i][1]-zahyo[j][1])**2)**0.5\n",
    "        print(\"[\"+str(zahyo[i][0])+\",\"+str(zahyo[i][1])+\"]と[\"+str(zahyo[j][0])+\",\"+str(zahyo[j][1])+\"]の距離は\"+str('{:.2f}'.format(add))+\"である.\")\n",
    "        total_distance += add\n",
    "        \n",
    "print(\"総合計は\"+str(total_distance)+\"である.\") #OK        "
   ]
  },
  {
   "cell_type": "markdown",
   "metadata": {},
   "source": [
    "## ④データ数で平均化する"
   ]
  },
  {
   "cell_type": "code",
   "execution_count": 66,
   "metadata": {},
   "outputs": [
    {
     "name": "stdout",
     "output_type": "stream",
     "text": [
      "3.67\n"
     ]
    }
   ],
   "source": [
    "#データを (n^2 - n)で割ると１組あたりの距離になる.\n",
    "\n",
    "ave_distance = total_distance / (data**2 - data)\n",
    "print('{:.2f}'.format(ave_distance))"
   ]
  },
  {
   "cell_type": "markdown",
   "metadata": {},
   "source": [
    "## コードまとめ"
   ]
  },
  {
   "cell_type": "code",
   "execution_count": 74,
   "metadata": {},
   "outputs": [
    {
     "data": {
      "image/png": "[encoded data removed]",
      "text/plain": [
       "<matplotlib.figure.Figure at 0x1d63ec55240>"
      ]
     },
     "metadata": {},
     "output_type": "display_data"
    },
    {
     "name": "stdout",
     "output_type": "stream",
     "text": [
      "1.78\n"
     ]
    }
   ],
   "source": [
    "zahyo = []\n",
    "total_distance = 0\n",
    "\n",
    "img = cv2.imread(\"/Users/facul/Pictures/reseach_image/color_entropy/color_entoropy_5.png\")\n",
    "plt.imshow(img)  #貼り付け\n",
    "plt.show()       #表示\n",
    "\n",
    "width = img.shape[0] \n",
    "height = img.shape[1]\n",
    "\n",
    "img_blue, img_green, img_red = cv2.split(img)\n",
    "for wi in range(width):\n",
    "    for he in range(height):\n",
    "        if img_red[wi, he] != 255:\n",
    "            zahyo.append([wi, he])\n",
    "\n",
    "data = len(zahyo)\n",
    "for i in range(data):\n",
    "    for j in range(data):\n",
    "        add = ((zahyo[i][0]-zahyo[j][0])**2 + (zahyo[i][1]-zahyo[j][1])**2)**0.5\n",
    "        total_distance += add\n",
    "        \n",
    "ave_distance = total_distance / (data**2 - data)\n",
    "print('{:.2f}'.format(ave_distance))"
   ]
  },
  {
   "cell_type": "code",
   "execution_count": null,
   "metadata": {},
   "outputs": [],
   "source": []
  }
 ],
 "metadata": {
  "kernelspec": {
   "display_name": "Python 3",
   "language": "python",
   "name": "python3"
  },
  "language_info": {
   "codemirror_mode": {
    "name": "ipython",
    "version": 3
   },
   "file_extension": ".py",
   "mimetype": "text/x-python",
   "name": "python",
   "nbconvert_exporter": "python",
   "pygments_lexer": "ipython3",
   "version": "3.6.3"
  }
 },
 "nbformat": 4,
 "nbformat_minor": 2
}
